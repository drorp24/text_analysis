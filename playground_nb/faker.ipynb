{
 "cells": [
  {
   "cell_type": "code",
   "execution_count": 1,
   "metadata": {},
   "outputs": [
    {
     "data": {
      "text/plain": [
       "['وتزويده قادة أواخر معاملة. زهاء يعادل عجّل والمعدات عدد الخارجية لكون من.',\n",
       " 'حدى اللازمة حتى المتاخمة أعلنت مدينة مشروط. أحكم وصل الفرنسي لفشل بأيدي تعديل المنتصر معزّزة. العدّ وصغار العالمية لمّ شموليةً. وتم ضمنها أما وبلجيكا بعرض الضغوط.',\n",
       " 'قدما وعلى فهرست بأيدي لإنعدام. فبعد للصين زهاء ودول. بولاتّساع جدول حاول دون بعشوائية للأراضي ولاتّساع.']"
      ]
     },
     "execution_count": 1,
     "metadata": {},
     "output_type": "execute_result"
    }
   ],
   "source": [
    "from faker import Faker\n",
    "from faker.providers.lorem.ar_AA import LoremProvider\n",
    "\n",
    "fake = Faker('ar_AA')\n",
    "fake.word()\n",
    "fake.sentence()\n",
    "fake.paragraphs()\n",
    "# def ar_word_generator():\n",
    "#     fake = Faker('ar_AA')\n",
    "#     yield fake.word()\n",
    "\n",
    "# ar_AA_lorem_provider = LoremProvider(ar_word_generator)\n",
    "# fake = Faker()\n",
    "# fake.add_provider(ar_AA_lorem_provider)\n",
    "# fake.sentence()"
   ]
  }
 ],
 "metadata": {
  "kernelspec": {
   "display_name": "Python 3",
   "language": "python",
   "name": "python3"
  },
  "language_info": {
   "codemirror_mode": {
    "name": "ipython",
    "version": 3
   },
   "file_extension": ".py",
   "mimetype": "text/x-python",
   "name": "python",
   "nbconvert_exporter": "python",
   "pygments_lexer": "ipython3",
   "version": "3.6.9"
  }
 },
 "nbformat": 4,
 "nbformat_minor": 2
}
