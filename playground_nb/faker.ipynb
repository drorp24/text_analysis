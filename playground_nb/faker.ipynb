{
 "cells": [
  {
   "cell_type": "code",
   "execution_count": 9,
   "metadata": {},
   "outputs": [
    {
     "data": {
      "text/plain": [
       "['ليرتفع سبتمبر لهيمنة مليون. بين الانجليزية المواد حقول بحيث حصدت. حقول أي ارتكبها على بفرض الخاصّة. لإعلان اسبوعين ٣٠ بخطوط بأسر.',\n",
       " 'بمما بـ فهرست التغييرات. مرجع العالمية الحيلولة بشرية الصين بهناك بمما. سكان وباستثناء الذود بتطويق اوروبا وزارة جدول.',\n",
       " 'فبعد وبالتحديد أعمال أمدها. بحث لإعلان مدن كانت بالحرب التنازلي. مدن الخطّة وانهاء فشكّل.']"
      ]
     },
     "execution_count": 9,
     "metadata": {},
     "output_type": "execute_result"
    }
   ],
   "source": [
    "from faker import Faker\n",
    "from faker.providers.lorem.ar_AA import LoremProvider\n",
    "\n",
    "fake = Faker('ar_AA')\n",
    "fake.word()\n",
    "fake.sentence()\n",
    "fake.paragraphs()\n",
    "# def ar_word_generator():\n",
    "#     fake = Faker('ar_AA')\n",
    "#     yield fake.word()\n",
    "\n",
    "# ar_AA_lorem_provider = LoremProvider(ar_word_generator)\n",
    "# fake = Faker()\n",
    "# fake.add_provider(ar_AA_lorem_provider)\n",
    "# fake.sentence()"
   ]
  },
  {
   "cell_type": "code",
   "execution_count": 12,
   "metadata": {},
   "outputs": [
    {
     "name": "stdout",
     "output_type": "stream",
     "text": [
      "0: yes\n",
      "1: we\n",
      "2: can\n"
     ]
    }
   ],
   "source": [
    "for idx, item in enumerate([\"yes\", \"we\", \"can\", \"do\", \"we\"][:3]):\n",
    "    print(f\"{idx}: {item}\")"
   ]
  },
  {
   "cell_type": "code",
   "execution_count": 17,
   "metadata": {},
   "outputs": [
    {
     "name": "stdout",
     "output_type": "stream",
     "text": [
      "None\n"
     ]
    }
   ],
   "source": [
    "print(fake.local_latlng(country_code=\"he_IL\", coords_only=True))"
   ]
  }
 ],
 "metadata": {
  "kernelspec": {
   "display_name": "Python 3",
   "language": "python",
   "name": "python3"
  },
  "language_info": {
   "codemirror_mode": {
    "name": "ipython",
    "version": 3
   },
   "file_extension": ".py",
   "mimetype": "text/x-python",
   "name": "python",
   "nbconvert_exporter": "python",
   "pygments_lexer": "ipython3",
   "version": "3.6.9"
  }
 },
 "nbformat": 4,
 "nbformat_minor": 2
}
